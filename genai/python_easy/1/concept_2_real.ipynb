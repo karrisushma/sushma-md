{
  "cells": [
    {
      "cell_type": "markdown",
      "metadata": {
        "id": "7qjRoV23S625"
      },
      "source": [
        "# Temperature Checker Example\n",
        "\n",
        "This simple Python program checks the current temperature and prints a suggestion:\n",
        "\n",
        "- If the temperature is **greater than 35°C**, it prints *\"It's too hot! Stay indoors.\"*\n",
        "- If the temperature is **greater than 25°C but up to 35°C**, it prints *\"Perfect weather for a walk!\"*\n",
        "- If the temperature is **25°C or lower**, it prints *\"Might need a jacket today.\"*"
      ],
      "id": "7qjRoV23S625"
    },
    {
      "cell_type": "code",
      "execution_count": 1,
      "metadata": {
        "id": "93kKbcLmS629",
        "outputId": "d2321158-56d6-4eb3-adfa-4825709089a3",
        "colab": {
          "base_uri": "https://localhost:8080/"
        }
      },
      "outputs": [
        {
          "output_type": "stream",
          "name": "stdout",
          "text": [
            "Perfect weather for a walk!\n"
          ]
        }
      ],
      "source": [
        "temperature = 30\n",
        "\n",
        "if temperature > 35:\n",
        "    print(\"It's too hot! Stay indoors.\")\n",
        "elif temperature > 25:\n",
        "    print(\"Perfect weather for a walk!\")\n",
        "else:\n",
        "    print(\"Might need a jacket today.\")"
      ],
      "id": "93kKbcLmS629"
    },
    {
      "cell_type": "code",
      "source": [
        "length = 10  # in meters\n",
        "width = 5    # in meters\n",
        "area = length * width  # Calculate area\n",
        "print(f\"Area is {area} square meters\")\n",
        ""
      ],
      "metadata": {
        "id": "8d6wHrDLU8i4",
        "outputId": "1db4dfca-1de2-49e9-d40d-537c7fe57900",
        "colab": {
          "base_uri": "https://localhost:8080/"
        }
      },
      "id": "8d6wHrDLU8i4",
      "execution_count": 2,
      "outputs": [
        {
          "output_type": "stream",
          "name": "stdout",
          "text": [
            "Area is 50 square meters\n"
          ]
        }
      ]
    },
    {
      "cell_type": "code",
      "source": [
        "length = 10\n",
        "width = 5\n",
        "area = length * width\n",
        "print(f\"Area is {area} square meters\")\n"
      ],
      "metadata": {
        "id": "eZCJVfLsYIE9",
        "outputId": "20215f1f-d49b-4167-9d3d-4701157dcf93",
        "colab": {
          "base_uri": "https://localhost:8080/"
        }
      },
      "id": "eZCJVfLsYIE9",
      "execution_count": 3,
      "outputs": [
        {
          "output_type": "stream",
          "name": "stdout",
          "text": [
            "Area is 50 square meters\n"
          ]
        }
      ]
    }
  ],
  "metadata": {
    "kernelspec": {
      "display_name": "Python 3",
      "language": "python",
      "name": "python3"
    },
    "language_info": {
      "name": "python",
      "version": "3.x"
    },
    "colab": {
      "provenance": []
    }
  },
  "nbformat": 4,
  "nbformat_minor": 5
}