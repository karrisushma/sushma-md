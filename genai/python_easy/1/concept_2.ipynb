{
  "cells": [
    {
      "cell_type": "markdown",
      "metadata": {
        "id": "wParru9s1TzI"
      },
      "source": [
        "# Temperature Checker Example\n",
        "\n",
        "This simple Python program checks the current temperature and prints a suggestion:\n",
        "\n",
        "- If the temperature is **greater than 35°C**, it prints *\"It's too hot! Stay indoors.\"*\n",
        "- If the temperature is **greater than 25°C but up to 35°C**, it prints *\"Perfect weather for a walk!\"*\n",
        "- If the temperature is **25°C or lower**, it prints *\"Might need a jacket today.\"*"
      ],
      "id": "wParru9s1TzI"
    },
    {
      "cell_type": "code",
      "source": [
        "age = 19\n",
        "if age > 18:\n",
        "   print(\"you are major now\")\n",
        "elif age < 18:\n",
        "   print(\"still you are minor\")\n",
        "else:\n",
        "   print(\"enjoy your teen age\")\n"
      ],
      "metadata": {
        "id": "_mIQOPWj1VlI",
        "outputId": "99e5cce7-0644-428b-f88f-3ab5c2a36a77",
        "colab": {
          "base_uri": "https://localhost:8080/"
        }
      },
      "id": "_mIQOPWj1VlI",
      "execution_count": 8,
      "outputs": [
        {
          "output_type": "stream",
          "name": "stdout",
          "text": [
            "you are major now\n"
          ]
        }
      ]
    },
    {
      "cell_type": "code",
      "execution_count": null,
      "metadata": {
        "id": "G0bXMlK01TzM"
      },
      "outputs": [],
      "source": [
        "temperature = 30\n",
        "\n",
        "if temperature > 35:\n",
        "    print(\"It's too hot! Stay indoors.\")\n",
        "elif temperature > 25:\n",
        "    print(\"Perfect weather for a walk!\")\n",
        "else:\n",
        "    print(\"Might need a jacket today.\")"
      ],
      "id": "G0bXMlK01TzM"
    }
  ],
  "metadata": {
    "kernelspec": {
      "display_name": "Python 3",
      "language": "python",
      "name": "python3"
    },
    "language_info": {
      "name": "python",
      "version": "3.x"
    },
    "colab": {
      "provenance": []
    }
  },
  "nbformat": 4,
  "nbformat_minor": 5
}