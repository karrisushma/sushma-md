{
  "cells": [
    {
      "cell_type": "markdown",
      "metadata": {
        "id": "T-EKaUqKIlSp"
      },
      "source": [
        "# Advanced PyTorch: nn.Module & nn.Sequential"
      ],
      "id": "T-EKaUqKIlSp"
    },
    {
      "cell_type": "markdown",
      "metadata": {
        "id": "C6mkh3RvIlSt"
      },
      "source": [
        "🚀 **Advanced: nn.Module & nn.Sequential**"
      ],
      "id": "C6mkh3RvIlSt"
    },
    {
      "cell_type": "markdown",
      "metadata": {
        "id": "ndwr79OvIlSu"
      },
      "source": [
        "*Professional PyTorch development patterns*"
      ],
      "id": "ndwr79OvIlSu"
    },
    {
      "cell_type": "markdown",
      "metadata": {
        "id": "8GBDlyaiIlSv"
      },
      "source": [
        "## Professional Network Building"
      ],
      "id": "8GBDlyaiIlSv"
    },
    {
      "cell_type": "markdown",
      "metadata": {
        "id": "8vY3cDPDIlSv"
      },
      "source": [
        "**nn.Module:** The blueprint for all PyTorch models"
      ],
      "id": "8vY3cDPDIlSv"
    },
    {
      "cell_type": "markdown",
      "metadata": {
        "id": "bEWORJLwIlSw"
      },
      "source": [
        "**nn.Sequential:** Quick way to stack layers in order"
      ],
      "id": "bEWORJLwIlSw"
    },
    {
      "cell_type": "markdown",
      "metadata": {
        "id": "axwCuvPjIlSw"
      },
      "source": [
        "*These are the tools pros use to build production AI systems!*"
      ],
      "id": "axwCuvPjIlSw"
    },
    {
      "cell_type": "markdown",
      "metadata": {
        "id": "037Hi4Z2IlSx"
      },
      "source": [
        "## Two Ways to Build Networks"
      ],
      "id": "037Hi4Z2IlSx"
    },
    {
      "cell_type": "code",
      "execution_count": null,
      "metadata": {
        "id": "tFkRRvOtIlSx"
      },
      "outputs": [],
      "source": [
        "# Method 1: nn.Sequential (quick and simple)\n",
        "import torch.nn as nn\n",
        "\n",
        "model = nn.Sequential(\n",
        "    nn.Linear(784, 128),\n",
        "    nn.ReLU(),\n",
        "    nn.Linear(128, 64),\n",
        "    nn.ReLU(),\n",
        "    nn.Linear(64, 10)\n",
        " )\n"
      ],
      "id": "tFkRRvOtIlSx"
    },
    {
      "cell_type": "markdown",
      "metadata": {
        "id": "3u1y7zf1IlSz"
      },
      "source": [
        "This creates a simple neural network by stacking layers in order using `nn.Sequential`."
      ],
      "id": "3u1y7zf1IlSz"
    },
    {
      "cell_type": "code",
      "source": [
        "\n",
        "class Animal:\n",
        "    def __init__(self, name):\n",
        "        self.name = name\n",
        "\n",
        "    def speak(self):\n",
        "        return \"Some sound\"\n",
        "\n",
        "class Dog(Animal):  # Dog inherits from Animal\n",
        "    def speak(self):  # Overriding parent method\n",
        "        return f\"{self.name} says Woof!\"\n",
        "\n",
        "class Cat(Animal):\n",
        "    def speak(self):\n",
        "        return f\"{self.name} says Meow!\"\n",
        "\n",
        "# Usage\n",
        "dog = Dog(\"Buddy\")\n",
        "cat = Cat(\"Whiskers\")\n",
        "print(dog.speak())  # Output: Buddy says Woof!\n",
        "print(cat.speak())  # Output: Whiskers says Meow!\n"
      ],
      "metadata": {
        "colab": {
          "base_uri": "https://localhost:8080/"
        },
        "id": "UQQ2a8eUIs0k",
        "outputId": "49c2ed7c-f2b3-47d0-edc5-46451b06852b"
      },
      "id": "UQQ2a8eUIs0k",
      "execution_count": 5,
      "outputs": [
        {
          "output_type": "stream",
          "name": "stdout",
          "text": [
            "Buddy says Woof!\n",
            "Whiskers says Meow!\n"
          ]
        }
      ]
    },
    {
      "cell_type": "code",
      "source": [
        "class Animal:\n",
        "  def __init__(self,name):\n",
        "    self.name=name\n",
        "    def speak(self):\n",
        "      return\"some sound\"\n",
        "      class Dog(Animal):\n",
        "        def speak(self):\n",
        "          return f\"{self.name} says Woof!\"\n",
        "dog=Dog(\"dog\")\n",
        "print(dog.speak())"
      ],
      "metadata": {
        "colab": {
          "base_uri": "https://localhost:8080/"
        },
        "id": "l-JbqErkJ8FE",
        "outputId": "03e97146-29b6-4060-ad94-2a39b5b718a8"
      },
      "id": "l-JbqErkJ8FE",
      "execution_count": 19,
      "outputs": [
        {
          "output_type": "stream",
          "name": "stdout",
          "text": [
            "dog says Woof!\n"
          ]
        }
      ]
    },
    {
      "cell_type": "code",
      "source": [
        "class User:\n",
        "    def __init__(self, name):\n",
        "        self.name = name\n",
        "\n",
        "    def greet(self):  # Instance method\n",
        "        return f\"Hello, {self.name}\"\n",
        "greet=Greet(\"hello\")\n",
        "print(greet.greet())\n"
      ],
      "metadata": {
        "colab": {
          "base_uri": "https://localhost:8080/",
          "height": 193
        },
        "id": "Nml1We14L994",
        "outputId": "7ee757b7-31b7-4640-dc55-56334a056bc7"
      },
      "id": "Nml1We14L994",
      "execution_count": 23,
      "outputs": [
        {
          "output_type": "error",
          "ename": "NameError",
          "evalue": "name 'Greet' is not defined",
          "traceback": [
            "\u001b[0;31m---------------------------------------------------------------------------\u001b[0m",
            "\u001b[0;31mNameError\u001b[0m                                 Traceback (most recent call last)",
            "\u001b[0;32m/tmp/ipython-input-2543173575.py\u001b[0m in \u001b[0;36m<cell line: 0>\u001b[0;34m()\u001b[0m\n\u001b[1;32m      5\u001b[0m     \u001b[0;32mdef\u001b[0m \u001b[0mgreet\u001b[0m\u001b[0;34m(\u001b[0m\u001b[0mself\u001b[0m\u001b[0;34m)\u001b[0m\u001b[0;34m:\u001b[0m  \u001b[0;31m# Instance method\u001b[0m\u001b[0;34m\u001b[0m\u001b[0;34m\u001b[0m\u001b[0m\n\u001b[1;32m      6\u001b[0m         \u001b[0;32mreturn\u001b[0m \u001b[0;34mf\"Hello, {self.name}\"\u001b[0m\u001b[0;34m\u001b[0m\u001b[0;34m\u001b[0m\u001b[0m\n\u001b[0;32m----> 7\u001b[0;31m \u001b[0mgreet\u001b[0m\u001b[0;34m=\u001b[0m\u001b[0mGreet\u001b[0m\u001b[0;34m(\u001b[0m\u001b[0;34m\"hello\"\u001b[0m\u001b[0;34m)\u001b[0m\u001b[0;34m\u001b[0m\u001b[0;34m\u001b[0m\u001b[0m\n\u001b[0m\u001b[1;32m      8\u001b[0m \u001b[0mprint\u001b[0m\u001b[0;34m(\u001b[0m\u001b[0mgreet\u001b[0m\u001b[0;34m.\u001b[0m\u001b[0mgreet\u001b[0m\u001b[0;34m(\u001b[0m\u001b[0;34m)\u001b[0m\u001b[0;34m)\u001b[0m\u001b[0;34m\u001b[0m\u001b[0;34m\u001b[0m\u001b[0m\n",
            "\u001b[0;31mNameError\u001b[0m: name 'Greet' is not defined"
          ]
        }
      ]
    },
    {
      "cell_type": "code",
      "source": [
        "class MathUtils:\n",
        "    @staticmethod\n",
        "    def add(x=1, y=2):\n",
        "        return x + y\n",
        "print(MathUtils.add(1, 2))"
      ],
      "metadata": {
        "colab": {
          "base_uri": "https://localhost:8080/"
        },
        "id": "PA1CwMywM6IA",
        "outputId": "27c4cc97-a913-48b9-8499-12b4845395a3"
      },
      "id": "PA1CwMywM6IA",
      "execution_count": 27,
      "outputs": [
        {
          "output_type": "stream",
          "name": "stdout",
          "text": [
            "3\n"
          ]
        }
      ]
    },
    {
      "cell_type": "code",
      "source": [
        "class MathUtils:\n",
        "    @staticmethod\n",
        "    def add(x=90, y=73):\n",
        "        return(x+y)\n",
        "print(MathUtils.add(90,73))"
      ],
      "metadata": {
        "id": "OWmcBKRZOFYJ",
        "outputId": "1e25b723-b275-4956-c48a-4893f1f1f79e",
        "colab": {
          "base_uri": "https://localhost:8080/"
        }
      },
      "id": "OWmcBKRZOFYJ",
      "execution_count": 28,
      "outputs": [
        {
          "output_type": "stream",
          "name": "stdout",
          "text": [
            "163\n"
          ]
        }
      ]
    },
    {
      "cell_type": "code",
      "execution_count": null,
      "metadata": {
        "id": "PaHucGt-IlSz"
      },
      "outputs": [],
      "source": [
        "# Method 2: nn.Module (more flexible and powerful)\n",
        "import torch\n",
        "import torch.nn as nn\n",
        "class CustomNetwork(nn.Module):\n",
        "    def __init__(self):\n",
        "        super().__init__()\n",
        "        self.layers = nn.Sequential(\n",
        "            nn.Linear(784, 128),\n",
        "            nn.ReLU(),\n",
        "            nn.Dropout(0.2),  # Advanced: prevents overfitting\n",
        "            nn.Linear(128, 10)\n",
        "        )\n",
        "    def forward(self, x):\n",
        "        return self.layers(x)\n"
      ],
      "id": "PaHucGt-IlSz"
    },
    {
      "cell_type": "markdown",
      "metadata": {
        "id": "GMjitgl-IlS0"
      },
      "source": [
        "This method defines a custom class inheriting from `nn.Module`. You can add more complex logic in the `forward` method."
      ],
      "id": "GMjitgl-IlS0"
    },
    {
      "cell_type": "markdown",
      "metadata": {
        "id": "lDrGXy1yIlS0"
      },
      "source": [
        "## Why This Matters"
      ],
      "id": "lDrGXy1yIlS0"
    },
    {
      "cell_type": "markdown",
      "metadata": {
        "id": "p2GjLB-OIlS0"
      },
      "source": [
        "- 🏗️ **Clean code:** Easy to read and maintain\n",
        "- 🔧 **Reusable:** Build once, use many times\n",
        "- 🎯 **Debugging:** Easy to track what's happening\n",
        "- 🚀 **Production ready:** Industry standard approach\n"
      ],
      "id": "p2GjLB-OIlS0"
    }
  ],
  "metadata": {
    "kernelspec": {
      "display_name": "Python 3",
      "language": "python",
      "name": "python3"
    },
    "language_info": {
      "name": "python",
      "version": "3.x"
    },
    "colab": {
      "provenance": []
    }
  },
  "nbformat": 4,
  "nbformat_minor": 5
}